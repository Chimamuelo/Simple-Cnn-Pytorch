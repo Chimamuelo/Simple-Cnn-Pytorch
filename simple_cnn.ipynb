{
  "nbformat": 4,
  "nbformat_minor": 0,
  "metadata": {
    "colab": {
      "provenance": [],
      "collapsed_sections": [],
      "authorship_tag": "ABX9TyOQAwYxrVzXDKTk4NrvqCPH",
      "include_colab_link": true
    },
    "kernelspec": {
      "name": "python3",
      "display_name": "Python 3"
    },
    "language_info": {
      "name": "python"
    },
    "accelerator": "GPU",
    "gpuClass": "standard"
  },
  "cells": [
    {
      "cell_type": "markdown",
      "metadata": {
        "id": "view-in-github",
        "colab_type": "text"
      },
      "source": [
        "<a href=\"https://colab.research.google.com/github/Chimamuelo/Simple-Cnn-Pytorch/blob/main/simple_cnn.ipynb\" target=\"_parent\"><img src=\"https://colab.research.google.com/assets/colab-badge.svg\" alt=\"Open In Colab\"/></a>"
      ]
    },
    {
      "cell_type": "code",
      "execution_count": 1,
      "metadata": {
        "id": "gjeV0Di1bD1d"
      },
      "outputs": [],
      "source": [
        "import torch\n",
        "import torchvision\n",
        "import torchvision.transforms as transforms\n",
        "import matplotlib.pyplot as plt\n",
        "import numpy as np\n",
        "import torch.nn as nn\n",
        "import torch.nn.functional as F"
      ]
    },
    {
      "cell_type": "code",
      "source": [
        "#Load data without converting to tensors\n",
        "trainset_img = torchvision.datasets.CIFAR10(root='./data', train=True,\n",
        "                                        download=True)"
      ],
      "metadata": {
        "colab": {
          "base_uri": "https://localhost:8080/"
        },
        "id": "qQ4lwjk6ndvy",
        "outputId": "fa11b5fd-1808-4648-c1b6-685d0916caf0"
      },
      "execution_count": 2,
      "outputs": [
        {
          "output_type": "stream",
          "name": "stdout",
          "text": [
            "Files already downloaded and verified\n"
          ]
        }
      ]
    },
    {
      "cell_type": "code",
      "source": [],
      "metadata": {
        "id": "kS_3mqw3uP3u"
      },
      "execution_count": 2,
      "outputs": []
    },
    {
      "cell_type": "code",
      "source": [
        "#Calculate mean and std of dataset\n",
        "data=trainset_img.data/255\n",
        "\n",
        "#RGB\n",
        "mean=data.mean(axis = (0,1,2))\n",
        "std=data.std(axis = (0,1,2))\n",
        "\n",
        "print(f\"Mean{mean} std{std}\")"
      ],
      "metadata": {
        "colab": {
          "base_uri": "https://localhost:8080/"
        },
        "id": "DJfAxJ7Ly3jz",
        "outputId": "428c4ab7-1d38-42eb-8736-5934d978fe73"
      },
      "execution_count": 3,
      "outputs": [
        {
          "output_type": "stream",
          "name": "stdout",
          "text": [
            "Mean[0.49139968 0.48215841 0.44653091] std[0.24703223 0.24348513 0.26158784]\n"
          ]
        }
      ]
    },
    {
      "cell_type": "code",
      "source": [
        "# Get pixel values\n",
        "pixels=trainset_img[0][0].getdata()\n",
        "pixel_sequence=list(pixels)"
      ],
      "metadata": {
        "id": "uCSRqY-HqPrZ"
      },
      "execution_count": 4,
      "outputs": []
    },
    {
      "cell_type": "code",
      "source": [
        "\n",
        "pix=np.array(pixel_sequence)\n",
        "\n",
        "#Original image is an RGB 32x32\n",
        "print(pix.shape)"
      ],
      "metadata": {
        "colab": {
          "base_uri": "https://localhost:8080/"
        },
        "id": "qFtDHGFpqaDy",
        "outputId": "d83a3d89-4806-46ee-e332-83e51d75d9fd"
      },
      "execution_count": 5,
      "outputs": [
        {
          "output_type": "stream",
          "name": "stdout",
          "text": [
            "(1024, 3)\n"
          ]
        }
      ]
    },
    {
      "cell_type": "code",
      "source": [
        "classes=list(trainset_img.class_to_idx)\n",
        "position=list(trainset_img.class_to_idx.values()).index(trainset_img[0][1])\n",
        "print(classes[position])"
      ],
      "metadata": {
        "colab": {
          "base_uri": "https://localhost:8080/"
        },
        "id": "MZxXaGnIWWta",
        "outputId": "d0825a10-99c8-4122-c8aa-0bc23624e93f"
      },
      "execution_count": 6,
      "outputs": [
        {
          "output_type": "stream",
          "name": "stdout",
          "text": [
            "frog\n"
          ]
        }
      ]
    },
    {
      "cell_type": "code",
      "source": [
        "#Show image without normalization\n",
        "plt.imshow(trainset_img[0][0])\n",
        "plt.title(classes[position])\n",
        "plt.show()"
      ],
      "metadata": {
        "colab": {
          "base_uri": "https://localhost:8080/",
          "height": 281
        },
        "id": "a1z1N5S0niOK",
        "outputId": "7ae352a9-d9a6-4141-9f1b-c3ff97564f04"
      },
      "execution_count": 7,
      "outputs": [
        {
          "output_type": "display_data",
          "data": {
            "text/plain": [
              "<Figure size 432x288 with 1 Axes>"
            ],
            "image/png": "[encoded data removed]"
          },
          "metadata": {
            "needs_background": "light"
          }
        }
      ]
    },
    {
      "cell_type": "code",
      "source": [
        "#Transform image data (pixel values from 0-255) -> TENSOR (with range from 0-1) and normalize\n",
        "transformation = transforms.Compose(\n",
        "    [transforms.ToTensor(),\n",
        "     transforms.Normalize(mean,std)])\n"
      ],
      "metadata": {
        "id": "DtGpnztLy8I7"
      },
      "execution_count": 8,
      "outputs": []
    },
    {
      "cell_type": "code",
      "source": [
        "batch_size = 8\n",
        "\n",
        "#Download data and apply the transformation\n",
        "trainset = torchvision.datasets.CIFAR10(root='./data', train=True,\n",
        "                                        download=True,transform=transformation)\n",
        "\n",
        "trainloader = torch.utils.data.DataLoader(trainset, batch_size=batch_size,\n",
        "                                          shuffle=True, num_workers=2)\n",
        "\n",
        "testset = torchvision.datasets.CIFAR10(root='./data', train=False,\n",
        "                                       download=True,transform=transformation)\n",
        "testloader = torch.utils.data.DataLoader(testset, batch_size=batch_size,\n",
        "                                         shuffle=False, num_workers=2)\n"
      ],
      "metadata": {
        "colab": {
          "base_uri": "https://localhost:8080/"
        },
        "id": "WNSLf_fahmgm",
        "outputId": "665d261e-a651-48dd-ccfd-193ed6ea9508"
      },
      "execution_count": 9,
      "outputs": [
        {
          "output_type": "stream",
          "name": "stdout",
          "text": [
            "Files already downloaded and verified\n",
            "Files already downloaded and verified\n"
          ]
        }
      ]
    },
    {
      "cell_type": "code",
      "source": [
        "data_norm=trainset.data"
      ],
      "metadata": {
        "id": "bFaJoXF4B9iF"
      },
      "execution_count": 10,
      "outputs": []
    },
    {
      "cell_type": "code",
      "source": [
        "data_norm.shape"
      ],
      "metadata": {
        "colab": {
          "base_uri": "https://localhost:8080/"
        },
        "id": "_JigGX4ch5BI",
        "outputId": "f6c47380-9a05-48da-cfed-6971dbb86e77"
      },
      "execution_count": 11,
      "outputs": [
        {
          "output_type": "execute_result",
          "data": {
            "text/plain": [
              "(50000, 32, 32, 3)"
            ]
          },
          "metadata": {},
          "execution_count": 11
        }
      ]
    },
    {
      "cell_type": "code",
      "source": [
        "#Declare np array of normalized pixel values (They were tensors)\n",
        "img_np = np.array(trainset[0][0])"
      ],
      "metadata": {
        "id": "Z3kJJjzNCV3k"
      },
      "execution_count": 12,
      "outputs": []
    },
    {
      "cell_type": "code",
      "source": [
        "\n",
        "img_normalized = img_np.transpose(1, 2, 0)"
      ],
      "metadata": {
        "id": "f6fpJm3pCax7"
      },
      "execution_count": 13,
      "outputs": []
    },
    {
      "cell_type": "code",
      "source": [
        "#Plot normalized image\n",
        "plt.subplot(221)\n",
        "plt.imshow(trainset_img[0][0])\n",
        "plt.subplot(222)\n",
        "plt.imshow(img_normalized,interpolation='nearest')\n",
        "plt.title(classes[position])\n",
        "plt.show()"
      ],
      "metadata": {
        "colab": {
          "base_uri": "https://localhost:8080/",
          "height": 181
        },
        "id": "JFW_0PPr39h8",
        "outputId": "446c13f4-9c8e-4e8b-da96-4be265668598"
      },
      "execution_count": 14,
      "outputs": [
        {
          "output_type": "stream",
          "name": "stderr",
          "text": [
            "WARNING:matplotlib.image:Clipping input data to the valid range for imshow with RGB data ([0..1] for floats or [0..255] for integers).\n"
          ]
        },
        {
          "output_type": "display_data",
          "data": {
            "text/plain": [
              "<Figure size 432x288 with 2 Axes>"
            ],
            "image/png": "[encoded data removed]"
          },
          "metadata": {
            "needs_background": "light"
          }
        }
      ]
    },
    {
      "cell_type": "code",
      "source": [
        "##Few samples of normalized images\n",
        "data_iter=iter(trainloader)\n"
      ],
      "metadata": {
        "id": "tDAMtVt6G3dc"
      },
      "execution_count": 15,
      "outputs": []
    },
    {
      "cell_type": "code",
      "source": [
        "trainset_img[0][1]"
      ],
      "metadata": {
        "colab": {
          "base_uri": "https://localhost:8080/"
        },
        "id": "9d49kHRpvI40",
        "outputId": "f3fc42f3-45b9-4931-e4fc-8c11425e9d37"
      },
      "execution_count": 16,
      "outputs": [
        {
          "output_type": "execute_result",
          "data": {
            "text/plain": [
              "6"
            ]
          },
          "metadata": {},
          "execution_count": 16
        }
      ]
    },
    {
      "cell_type": "code",
      "source": [
        "#Plot normalized images and non-normalized images\n",
        "\n",
        "for i in range(8):\n",
        "  img_np = np.array(trainset[i][0])\n",
        "  img_normalized = img_np.transpose(1, 2, 0)\n",
        "  \n",
        "  #normalized image\n",
        "  plt.subplot(221)\n",
        "  plt.imshow(img_normalized)\n",
        "  classes=list(trainset.class_to_idx)\n",
        "  position=list(trainset.class_to_idx.values()).index(trainset_img[i][1])\n",
        "  plt.title(classes[position])\n",
        "  #non-normalized image\n",
        "  plt.subplot(222)\n",
        "  plt.imshow(trainset_img[i][0])\n",
        "  plt.title(classes[position])\n",
        "  plt.show()"
      ],
      "metadata": {
        "colab": {
          "base_uri": "https://localhost:8080/",
          "height": 1000
        },
        "id": "pRQ82_JdvI9t",
        "outputId": "a0595540-b050-48e5-ea66-31feaf29b5e4"
      },
      "execution_count": 17,
      "outputs": [
        {
          "output_type": "stream",
          "name": "stderr",
          "text": [
            "WARNING:matplotlib.image:Clipping input data to the valid range for imshow with RGB data ([0..1] for floats or [0..255] for integers).\n"
          ]
        },
        {
          "output_type": "display_data",
          "data": {
            "text/plain": [
              "<Figure size 432x288 with 2 Axes>"
            ],
            "image/png": "[encoded data removed]"
          },
          "metadata": {
            "needs_background": "light"
          }
        },
        {
          "output_type": "stream",
          "name": "stderr",
          "text": [
            "WARNING:matplotlib.image:Clipping input data to the valid range for imshow with RGB data ([0..1] for floats or [0..255] for integers).\n"
          ]
        },
        {
          "output_type": "display_data",
          "data": {
            "text/plain": [
              "<Figure size 432x288 with 2 Axes>"
            ],
            "image/png": "[encoded data removed]"
          },
          "metadata": {
            "needs_background": "light"
          }
        },
        {
          "output_type": "stream",
          "name": "stderr",
          "text": [
            "WARNING:matplotlib.image:Clipping input data to the valid range for imshow with RGB data ([0..1] for floats or [0..255] for integers).\n"
          ]
        },
        {
          "output_type": "display_data",
          "data": {
            "text/plain": [
              "<Figure size 432x288 with 2 Axes>"
            ],
            "image/png": "[encoded data removed]"
          },
          "metadata": {
            "needs_background": "light"
          }
        },
        {
          "output_type": "stream",
          "name": "stderr",
          "text": [
            "WARNING:matplotlib.image:Clipping input data to the valid range for imshow with RGB data ([0..1] for floats or [0..255] for integers).\n"
          ]
        },
        {
          "output_type": "display_data",
          "data": {
            "text/plain": [
              "<Figure size 432x288 with 2 Axes>"
            ],
            "image/png": "[encoded data removed]"
          },
          "metadata": {
            "needs_background": "light"
          }
        },
        {
          "output_type": "stream",
          "name": "stderr",
          "text": [
            "WARNING:matplotlib.image:Clipping input data to the valid range for imshow with RGB data ([0..1] for floats or [0..255] for integers).\n"
          ]
        },
        {
          "output_type": "display_data",
          "data": {
            "text/plain": [
              "<Figure size 432x288 with 2 Axes>"
            ],
            "image/png": "[encoded data removed]"
          },
          "metadata": {
            "needs_background": "light"
          }
        },
        {
          "output_type": "stream",
          "name": "stderr",
          "text": [
            "WARNING:matplotlib.image:Clipping input data to the valid range for imshow with RGB data ([0..1] for floats or [0..255] for integers).\n"
          ]
        },
        {
          "output_type": "display_data",
          "data": {
            "text/plain": [
              "<Figure size 432x288 with 2 Axes>"
            ],
            "image/png": "[encoded data removed]"
          },
          "metadata": {
            "needs_background": "light"
          }
        },
        {
          "output_type": "stream",
          "name": "stderr",
          "text": [
            "WARNING:matplotlib.image:Clipping input data to the valid range for imshow with RGB data ([0..1] for floats or [0..255] for integers).\n"
          ]
        },
        {
          "output_type": "display_data",
          "data": {
            "text/plain": [
              "<Figure size 432x288 with 2 Axes>"
            ],
            "image/png": "[encoded data removed]"
          },
          "metadata": {
            "needs_background": "light"
          }
        },
        {
          "output_type": "stream",
          "name": "stderr",
          "text": [
            "WARNING:matplotlib.image:Clipping input data to the valid range for imshow with RGB data ([0..1] for floats or [0..255] for integers).\n"
          ]
        },
        {
          "output_type": "display_data",
          "data": {
            "text/plain": [
              "<Figure size 432x288 with 2 Axes>"
            ],
            "image/png": "[encoded data removed]"
          },
          "metadata": {
            "needs_background": "light"
          }
        }
      ]
    },
    {
      "cell_type": "code",
      "source": [
        "#Declare Cnn architecture\n",
        "\n",
        "\n",
        "class model(nn.Module):\n",
        "  def __init__(self,in_channel,out_channel):\n",
        "    super().__init__()\n",
        "    \n",
        "    self.conv1=nn.Conv2d(in_channel,out_channel,kernel_size=5,stride=1)\n",
        "    \n",
        "    #compare stride with max pool, to try this make stride=1\n",
        "    self.pool=nn.MaxPool2d(2,2)\n",
        "\n",
        "    self.conv2=nn.Conv2d(out_channel,32,kernel_size=5,stride=1)\n",
        "    self.linear=nn.Linear(32*5*5,120)\n",
        "    self.linear2=nn.Linear(120,84)\n",
        "    self.out=nn.Linear(84,10)\n",
        "\n",
        "    \n",
        "  def forward(self,x):\n",
        "    \n",
        "   # x =F.relu(self.conv1(x))\n",
        "    x=self.pool(F.relu(self.conv1(x)))\n",
        "\n",
        "    #x =F.relu(self.conv2(x))\n",
        "    x=self.pool(F.relu(self.conv2(x)))\n",
        "\n",
        "    x = torch.flatten(x, 1) # flatten all dimensions except batch\n",
        "    x = F.relu(self.linear(x))\n",
        "    x = F.relu(self.linear2(x))\n",
        "    x = self.out(x)\n",
        "    return x\n",
        "    \n",
        "    \n"
      ],
      "metadata": {
        "id": "IrQtbLBL3glU"
      },
      "execution_count": 18,
      "outputs": []
    },
    {
      "cell_type": "code",
      "source": [
        "model=model(3,16)\n",
        "device = torch.device(\"cuda\")\n",
        "model.to(device)"
      ],
      "metadata": {
        "colab": {
          "base_uri": "https://localhost:8080/"
        },
        "id": "sXQvFksUkQlk",
        "outputId": "76b9ff01-5cf7-4353-b800-811c2ab3e1dc"
      },
      "execution_count": 19,
      "outputs": [
        {
          "output_type": "execute_result",
          "data": {
            "text/plain": [
              "model(\n",
              "  (conv1): Conv2d(3, 16, kernel_size=(5, 5), stride=(1, 1))\n",
              "  (pool): MaxPool2d(kernel_size=2, stride=2, padding=0, dilation=1, ceil_mode=False)\n",
              "  (conv2): Conv2d(16, 32, kernel_size=(5, 5), stride=(1, 1))\n",
              "  (linear): Linear(in_features=800, out_features=120, bias=True)\n",
              "  (linear2): Linear(in_features=120, out_features=84, bias=True)\n",
              "  (out): Linear(in_features=84, out_features=10, bias=True)\n",
              ")"
            ]
          },
          "metadata": {},
          "execution_count": 19
        }
      ]
    },
    {
      "cell_type": "code",
      "source": [
        "!pip install torchmetrics attrdict -q"
      ],
      "metadata": {
        "id": "oWjsceNXqM_z"
      },
      "execution_count": 20,
      "outputs": []
    },
    {
      "cell_type": "code",
      "source": [
        "import torch.optim as optim\n",
        "import torchmetrics\n",
        "\n",
        "criterion = nn.CrossEntropyLoss()\n",
        "optimizer = optim.Adam(model.parameters(), lr=0.001)\n",
        "metric = torchmetrics.Accuracy()\n",
        "metric=metric.to(device)"
      ],
      "metadata": {
        "id": "28FENa_QkwtM"
      },
      "execution_count": 21,
      "outputs": []
    },
    {
      "cell_type": "code",
      "source": [
        "N_EPOCHS = 5"
      ],
      "metadata": {
        "id": "P0f1f39HqKSf"
      },
      "execution_count": 22,
      "outputs": []
    },
    {
      "cell_type": "code",
      "source": [
        "train_losses_step = []\n",
        "train_losses = []\n",
        "valid_losses = []\n",
        "for epoch in range(N_EPOCHS):\n",
        "  running_loss = 0.0\n",
        "  model.train()\n",
        "  for i, data in enumerate(trainloader, 0):\n",
        "    # get the inputs; data is a list of [inputs, labels]\n",
        "    inputs, labels = data\n",
        "    inputs=inputs.to(device)\n",
        "    labels=labels.to(device)\n",
        "\n",
        "      # zero the parameter gradients\n",
        "    optimizer.zero_grad()\n",
        "\n",
        "      # forward + backward + optimize\n",
        "    outputs = model(inputs)\n",
        "    loss = criterion(outputs, labels)\n",
        "    loss.backward()\n",
        "    optimizer.step()\n",
        "\n",
        "    batch_acc = metric(outputs,labels)\n",
        "    running_loss += loss\n",
        "    train_losses_step.append(loss.item())\n",
        "\n",
        "  running_loss /= len(trainloader)\n",
        "  train_losses.append(running_loss.item())\n",
        "  train_acc = metric.compute()\n",
        "    \n",
        "    \n",
        "  model.eval() \n",
        "  val_loss=0\n",
        "  for i, data in enumerate(testloader, 0):\n",
        "    # get the inputs; data is a list of [inputs, labels]\n",
        "    inputs, labels = data\n",
        "    inputs=inputs.to(device)\n",
        "    labels=labels.to(device)\n",
        "\n",
        "\n",
        " \n",
        "\n",
        "\n",
        "    outputs = model(inputs)\n",
        "    loss = criterion(outputs, labels)\n",
        "    \n",
        "   \n",
        "\n",
        "    batch_acc = metric(outputs,labels)\n",
        "    val_loss += loss\n",
        "    \n",
        "\n",
        "  val_loss /= len(testloader)\n",
        "  valid_losses.append(val_loss.item())\n",
        "  valid_acc = metric.compute()\n",
        "    \n",
        "  print(f\"Epoch: {epoch}, Train loss: {running_loss:.04f} Train acc: {float(train_acc):.04f}, Valid loss: {val_loss} Valid Acc: {float(valid_acc):.04f}\")\n",
        "     \n",
        "  \n",
        "      \n",
        "\n"
      ],
      "metadata": {
        "colab": {
          "base_uri": "https://localhost:8080/"
        },
        "id": "ZcMIlYc0vqlx",
        "outputId": "cdb83449-1e1c-4ec1-b102-6c0e2b1fddf6"
      },
      "execution_count": 23,
      "outputs": [
        {
          "output_type": "stream",
          "name": "stdout",
          "text": [
            "Epoch: 0, Train loss: 1.4848 Train acc: 0.4590, Valid loss: 1.2645655870437622 Valid Acc: 0.4738\n",
            "Epoch: 1, Train loss: 1.1770 Train acc: 0.5226, Valid loss: 1.220410943031311 Valid Acc: 0.5255\n",
            "Epoch: 2, Train loss: 1.0349 Train acc: 0.5584, Valid loss: 1.1244783401489258 Valid Acc: 0.5615\n",
            "Epoch: 3, Train loss: 0.9477 Train acc: 0.5841, Valid loss: 1.0413891077041626 Valid Acc: 0.5866\n",
            "Epoch: 4, Train loss: 0.8830 Train acc: 0.6048, Valid loss: 0.9999507665634155 Valid Acc: 0.6063\n"
          ]
        }
      ]
    },
    {
      "cell_type": "code",
      "source": [
        "#Code from pytorch Training classifier tutorial https://pytorch.org/tutorials/beginner/blitz/cifar10_tutorial.html\n",
        "correct = 0\n",
        "total = 0\n",
        "# since we're not training, we don't need to calculate the gradients for our outputs\n",
        "with torch.no_grad():\n",
        "    for data in testloader:\n",
        "        images, labels = data\n",
        "        images,labels=images.to(device),labels.to(device)\n",
        "        # calculate outputs by running images through the network\n",
        "        outputs = model(images)\n",
        "        # the class with the highest energy is what we choose as prediction\n",
        "        _, predicted = torch.max(outputs.data, 1)\n",
        "        total += labels.size(0)\n",
        "        correct += (predicted == labels).sum().item()\n",
        "\n",
        "print(f'Accuracy of the network on the 10000 test images: {100 * correct // total} %')"
      ],
      "metadata": {
        "colab": {
          "base_uri": "https://localhost:8080/"
        },
        "id": "mhiekESh4Qoe",
        "outputId": "0884d205-b9b9-46d9-e1b1-9793c4531ef4"
      },
      "execution_count": 24,
      "outputs": [
        {
          "output_type": "stream",
          "name": "stdout",
          "text": [
            "Accuracy of the network on the 10000 test images: 65 %\n"
          ]
        }
      ]
    },
    {
      "cell_type": "code",
      "source": [
        "\n",
        "kernels = model.conv1.weight.detach().clone()\n",
        "kernels = kernels - kernels.min()\n",
        "kernels = kernels / kernels.max()\n",
        "kernels=kernels.cpu()\n",
        "\n",
        "\n",
        "img = torchvision.utils.make_grid(kernels)\n",
        "plt.imshow(np.transpose(img,(1, 2, 0)))"
      ],
      "metadata": {
        "colab": {
          "base_uri": "https://localhost:8080/",
          "height": 159
        },
        "id": "PQ0wuAda4TXs",
        "outputId": "9a6ad39d-54cf-497f-c7a6-07b2fe81de3b"
      },
      "execution_count": 25,
      "outputs": [
        {
          "output_type": "execute_result",
          "data": {
            "text/plain": [
              "<matplotlib.image.AxesImage at 0x7f6e81fbe790>"
            ]
          },
          "metadata": {},
          "execution_count": 25
        },
        {
          "output_type": "display_data",
          "data": {
            "text/plain": [
              "<Figure size 432x288 with 1 Axes>"
            ],
            "image/png": "[encoded data removed]"
          },
          "metadata": {
            "needs_background": "light"
          }
        }
      ]
    },
    {
      "cell_type": "code",
      "source": [
        "def visTensor(tensor, ch=0, allkernels=False, nrow=8, padding=1): \n",
        "        n,c,w,h = tensor.shape\n",
        "\n",
        "        if allkernels: tensor = tensor.view(n*c, -1, w, h)\n",
        "        elif c != 3: tensor = tensor[:,ch,:,:].unsqueeze(dim=1)\n",
        "\n",
        "        rows = np.min((tensor.shape[0] // nrow + 1, 64))    \n",
        "        grid = torchvision.utils.make_grid(tensor, nrow=nrow,normalize=True, padding=padding)\n",
        "        plt.figure( figsize=(nrow,rows) )\n",
        "        plt.imshow(grid.numpy().transpose((1, 2, 0)))\n"
      ],
      "metadata": {
        "id": "X1WhOV5UUdD1"
      },
      "execution_count": 26,
      "outputs": []
    },
    {
      "cell_type": "code",
      "source": [
        "kernels=model.conv2.weight.detach().clone()\n",
        "kernels=kernels.cpu()\n",
        "visTensor(kernels, ch=0, allkernels=False)\n",
        "plt.axis('off')\n",
        "plt.ioff()\n",
        "plt.show()"
      ],
      "metadata": {
        "colab": {
          "base_uri": "https://localhost:8080/",
          "height": 259
        },
        "id": "2DiblZoGX0hl",
        "outputId": "0309ee42-bad9-4c25-9931-7ac4bd6ac41c"
      },
      "execution_count": 27,
      "outputs": [
        {
          "output_type": "display_data",
          "data": {
            "text/plain": [
              "<Figure size 576x360 with 1 Axes>"
            ],
            "image/png": "[encoded data removed]"
          },
          "metadata": {
            "needs_background": "light"
          }
        }
      ]
    }
  ]
}